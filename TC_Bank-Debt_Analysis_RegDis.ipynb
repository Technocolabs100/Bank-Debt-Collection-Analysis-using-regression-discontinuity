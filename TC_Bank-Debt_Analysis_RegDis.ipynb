{
 "cells": [
  {
   "cell_type": "code",
   "execution_count": 97,
   "id": "e3d80eff",
   "metadata": {},
   "outputs": [],
   "source": [
    "# importing lobraries\n",
    "\n",
    "import pandas as pd\n",
    "import numpy as np\n",
    "import seaborn as sns\n",
    "\n",
    "import matplotlib.pyplot as plt\n",
    "from scipy import stats\n",
    "import statsmodels.api as sm"
   ]
  },
  {
   "cell_type": "code",
   "execution_count": 98,
   "id": "43a75404",
   "metadata": {},
   "outputs": [
    {
     "data": {
      "text/html": [
       "<div>\n",
       "<style scoped>\n",
       "    .dataframe tbody tr th:only-of-type {\n",
       "        vertical-align: middle;\n",
       "    }\n",
       "\n",
       "    .dataframe tbody tr th {\n",
       "        vertical-align: top;\n",
       "    }\n",
       "\n",
       "    .dataframe thead th {\n",
       "        text-align: right;\n",
       "    }\n",
       "</style>\n",
       "<table border=\"1\" class=\"dataframe\">\n",
       "  <thead>\n",
       "    <tr style=\"text-align: right;\">\n",
       "      <th></th>\n",
       "      <th>id</th>\n",
       "      <th>expected_recovery_amount</th>\n",
       "      <th>actual_recovery_amount</th>\n",
       "      <th>recovery_strategy</th>\n",
       "      <th>age</th>\n",
       "      <th>sex</th>\n",
       "    </tr>\n",
       "  </thead>\n",
       "  <tbody>\n",
       "    <tr>\n",
       "      <th>0</th>\n",
       "      <td>2030</td>\n",
       "      <td>194</td>\n",
       "      <td>263.540000</td>\n",
       "      <td>Level 0 Recovery</td>\n",
       "      <td>19</td>\n",
       "      <td>Male</td>\n",
       "    </tr>\n",
       "    <tr>\n",
       "      <th>1</th>\n",
       "      <td>1150</td>\n",
       "      <td>486</td>\n",
       "      <td>416.090000</td>\n",
       "      <td>Level 0 Recovery</td>\n",
       "      <td>25</td>\n",
       "      <td>Female</td>\n",
       "    </tr>\n",
       "    <tr>\n",
       "      <th>2</th>\n",
       "      <td>380</td>\n",
       "      <td>527</td>\n",
       "      <td>429.350000</td>\n",
       "      <td>Level 0 Recovery</td>\n",
       "      <td>27</td>\n",
       "      <td>Male</td>\n",
       "    </tr>\n",
       "    <tr>\n",
       "      <th>3</th>\n",
       "      <td>1838</td>\n",
       "      <td>536</td>\n",
       "      <td>296.990000</td>\n",
       "      <td>Level 0 Recovery</td>\n",
       "      <td>25</td>\n",
       "      <td>Male</td>\n",
       "    </tr>\n",
       "    <tr>\n",
       "      <th>4</th>\n",
       "      <td>1995</td>\n",
       "      <td>541</td>\n",
       "      <td>346.385000</td>\n",
       "      <td>Level 0 Recovery</td>\n",
       "      <td>34</td>\n",
       "      <td>Male</td>\n",
       "    </tr>\n",
       "    <tr>\n",
       "      <th>...</th>\n",
       "      <td>...</td>\n",
       "      <td>...</td>\n",
       "      <td>...</td>\n",
       "      <td>...</td>\n",
       "      <td>...</td>\n",
       "      <td>...</td>\n",
       "    </tr>\n",
       "    <tr>\n",
       "      <th>1877</th>\n",
       "      <td>361</td>\n",
       "      <td>9785</td>\n",
       "      <td>15388.195990</td>\n",
       "      <td>Level 4 Recovery</td>\n",
       "      <td>65</td>\n",
       "      <td>Female</td>\n",
       "    </tr>\n",
       "    <tr>\n",
       "      <th>1878</th>\n",
       "      <td>196</td>\n",
       "      <td>9857</td>\n",
       "      <td>9709.909257</td>\n",
       "      <td>Level 4 Recovery</td>\n",
       "      <td>68</td>\n",
       "      <td>Female</td>\n",
       "    </tr>\n",
       "    <tr>\n",
       "      <th>1879</th>\n",
       "      <td>313</td>\n",
       "      <td>9859</td>\n",
       "      <td>30209.181790</td>\n",
       "      <td>Level 4 Recovery</td>\n",
       "      <td>58</td>\n",
       "      <td>Female</td>\n",
       "    </tr>\n",
       "    <tr>\n",
       "      <th>1880</th>\n",
       "      <td>1781</td>\n",
       "      <td>9920</td>\n",
       "      <td>20386.232190</td>\n",
       "      <td>Level 4 Recovery</td>\n",
       "      <td>67</td>\n",
       "      <td>Female</td>\n",
       "    </tr>\n",
       "    <tr>\n",
       "      <th>1881</th>\n",
       "      <td>522</td>\n",
       "      <td>9964</td>\n",
       "      <td>16706.305920</td>\n",
       "      <td>Level 4 Recovery</td>\n",
       "      <td>53</td>\n",
       "      <td>Male</td>\n",
       "    </tr>\n",
       "  </tbody>\n",
       "</table>\n",
       "<p>1882 rows × 6 columns</p>\n",
       "</div>"
      ],
      "text/plain": [
       "        id  expected_recovery_amount  actual_recovery_amount  \\\n",
       "0     2030                       194              263.540000   \n",
       "1     1150                       486              416.090000   \n",
       "2      380                       527              429.350000   \n",
       "3     1838                       536              296.990000   \n",
       "4     1995                       541              346.385000   \n",
       "...    ...                       ...                     ...   \n",
       "1877   361                      9785            15388.195990   \n",
       "1878   196                      9857             9709.909257   \n",
       "1879   313                      9859            30209.181790   \n",
       "1880  1781                      9920            20386.232190   \n",
       "1881   522                      9964            16706.305920   \n",
       "\n",
       "     recovery_strategy  age     sex  \n",
       "0     Level 0 Recovery   19    Male  \n",
       "1     Level 0 Recovery   25  Female  \n",
       "2     Level 0 Recovery   27    Male  \n",
       "3     Level 0 Recovery   25    Male  \n",
       "4     Level 0 Recovery   34    Male  \n",
       "...                ...  ...     ...  \n",
       "1877  Level 4 Recovery   65  Female  \n",
       "1878  Level 4 Recovery   68  Female  \n",
       "1879  Level 4 Recovery   58  Female  \n",
       "1880  Level 4 Recovery   67  Female  \n",
       "1881  Level 4 Recovery   53    Male  \n",
       "\n",
       "[1882 rows x 6 columns]"
      ]
     },
     "execution_count": 98,
     "metadata": {},
     "output_type": "execute_result"
    }
   ],
   "source": [
    "# importing csv file \n",
    "\n",
    "bank_debt = pd.read_csv('G:\\\\Mandar\\\\Technocollab internship\\\\Dataset\\\\bank_data.csv')\n",
    "\n",
    "# reading bank_debt csv\n",
    "bank_debt"
   ]
  },
  {
   "cell_type": "code",
   "execution_count": 99,
   "id": "54ff600f",
   "metadata": {},
   "outputs": [
    {
     "name": "stdout",
     "output_type": "stream",
     "text": [
      "<class 'pandas.core.frame.DataFrame'>\n",
      "RangeIndex: 1882 entries, 0 to 1881\n",
      "Data columns (total 6 columns):\n",
      " #   Column                    Non-Null Count  Dtype  \n",
      "---  ------                    --------------  -----  \n",
      " 0   id                        1882 non-null   int64  \n",
      " 1   expected_recovery_amount  1882 non-null   int64  \n",
      " 2   actual_recovery_amount    1882 non-null   float64\n",
      " 3   recovery_strategy         1882 non-null   object \n",
      " 4   age                       1882 non-null   int64  \n",
      " 5   sex                       1882 non-null   object \n",
      "dtypes: float64(1), int64(3), object(2)\n",
      "memory usage: 88.3+ KB\n"
     ]
    }
   ],
   "source": [
    "# checking the datatypes\n",
    "\n",
    "bank_debt.info()"
   ]
  },
  {
   "cell_type": "markdown",
   "id": "d08769b5",
   "metadata": {},
   "source": [
    "### Task 1: Regression discontinuity: banking recovery"
   ]
  },
  {
   "cell_type": "code",
   "execution_count": 100,
   "id": "2f9d3881",
   "metadata": {},
   "outputs": [
    {
     "data": {
      "image/png": "[encoded data removed]",
      "text/plain": [
       "<Figure size 720x576 with 1 Axes>"
      ]
     },
     "metadata": {
      "needs_background": "light"
     },
     "output_type": "display_data"
    },
    {
     "name": "stdout",
     "output_type": "stream",
     "text": [
      "Higher recovery strategy is not cost-effective.\n",
      "                              OLS Regression Results                              \n",
      "==================================================================================\n",
      "Dep. Variable:     actual_recovery_amount   R-squared:                       0.817\n",
      "Model:                                OLS   Adj. R-squared:                  0.817\n",
      "Method:                     Least Squares   F-statistic:                     8378.\n",
      "Date:                    Wed, 23 Aug 2023   Prob (F-statistic):               0.00\n",
      "Time:                            17:54:40   Log-Likelihood:                -16936.\n",
      "No. Observations:                    1882   AIC:                         3.388e+04\n",
      "Df Residuals:                        1880   BIC:                         3.389e+04\n",
      "Df Model:                               1                                         \n",
      "Covariance Type:                nonrobust                                         \n",
      "============================================================================================\n",
      "                               coef    std err          t      P>|t|      [0.025      0.975]\n",
      "--------------------------------------------------------------------------------------------\n",
      "const                    -1650.4994     76.506    -21.573      0.000   -1800.545   -1500.454\n",
      "expected_recovery_amount     2.0477      0.022     91.530      0.000       2.004       2.092\n",
      "==============================================================================\n",
      "Omnibus:                     1477.262   Durbin-Watson:                   2.090\n",
      "Prob(Omnibus):                  0.000   Jarque-Bera (JB):            77458.302\n",
      "Skew:                           3.224   Prob(JB):                         0.00\n",
      "Kurtosis:                      33.761   Cond. No.                     5.79e+03\n",
      "==============================================================================\n",
      "\n",
      "Notes:\n",
      "[1] Standard Errors assume that the covariance matrix of the errors is correctly specified.\n",
      "[2] The condition number is large, 5.79e+03. This might indicate that there are\n",
      "strong multicollinearity or other numerical problems.\n"
     ]
    }
   ],
   "source": [
    "# Defining the threshold\n",
    "threshold = 1000\n",
    "\n",
    "# Creating treatment and control groups\n",
    "treatment_group = bank_debt[bank_debt['expected_recovery_amount'] > threshold]\n",
    "control_group = bank_debt[bank_debt['expected_recovery_amount'] <= threshold]\n",
    "\n",
    "# Visualizing the relationship between Expected Recovery Amount and Actual Recovery Amount\n",
    "plt.figure(figsize=(10,8))\n",
    "plt.scatter(control_group['expected_recovery_amount'], control_group['actual_recovery_amount'], label='Control')\n",
    "plt.scatter(treatment_group['expected_recovery_amount'], treatment_group['actual_recovery_amount'], label='Treatment')\n",
    "plt.axvline(x=threshold, color='red', linestyle='--', label='Threshold')\n",
    "plt.xlabel('Expected Recovery Amount')\n",
    "plt.ylabel('Actual Recovery Amount')\n",
    "plt.legend()\n",
    "plt.show()\n",
    "\n",
    "# Perform local linear regression\n",
    "X = sm.add_constant(bank_debt['expected_recovery_amount'])\n",
    "model = sm.OLS(bank_debt['actual_recovery_amount'], X).fit()\n",
    "\n",
    "# Estimate treatment effect\n",
    "treatment_effect = model.params['expected_recovery_amount']\n",
    "\n",
    "# Compare treatment effect with cost\n",
    "additional_cost = 50\n",
    "if treatment_effect > additional_cost:\n",
    "    print(\"Higher recovery strategy is cost-effective.\")\n",
    "else:\n",
    "    print(\"Higher recovery strategy is not cost-effective.\")\n",
    "\n",
    "# Print regression summary\n",
    "print(model.summary())\n"
   ]
  },
  {
   "cell_type": "markdown",
   "id": "d5ea3570",
   "metadata": {},
   "source": [
    "<div style=\"background-color: #FFFF00; padding: 10px;\">\n",
    "Conclusion: The analysis demonstrates that a higher recovery strategy is cost-effective if the treatment effect, estimated through local linear regression, exceeds the additional cost; the relationship between Expected Recovery Amount and Actual Recovery Amount is visualized, and a threshold of 1000 is used to divide treatment and control groups.\n",
    "    </div>"
   ]
  },
  {
   "cell_type": "markdown",
   "id": "f317d283",
   "metadata": {},
   "source": [
    "## Task2: Graphical exploratory data analysis. \n",
    "## Scatter plot of Age vs. Expected Recovery Amount"
   ]
  },
  {
   "cell_type": "code",
   "execution_count": 101,
   "id": "2839ef44",
   "metadata": {},
   "outputs": [
    {
     "data": {
      "image/png": "[encoded data removed]",
      "text/plain": [
       "<Figure size 864x720 with 1 Axes>"
      ]
     },
     "metadata": {
      "needs_background": "light"
     },
     "output_type": "display_data"
    }
   ],
   "source": [
    "# Scatter plot of Age vs. Expected Recovery Amount\n",
    "\n",
    "plt.figure(figsize=(12,10))\n",
    "plt.scatter(bank_debt['expected_recovery_amount'], bank_debt['age'])\n",
    "plt.xlabel('Expected Recovery Amount')\n",
    "plt.ylabel('Age')\n",
    "plt.title('Age vs. Expected Recovery Amount')\n",
    "plt.show()"
   ]
  },
  {
   "cell_type": "markdown",
   "id": "88f81c21",
   "metadata": {},
   "source": [
    "## Task3: Statistical test: age vs. expected recovery amount"
   ]
  },
  {
   "cell_type": "code",
   "execution_count": 102,
   "id": "29c0a67b",
   "metadata": {},
   "outputs": [
    {
     "data": {
      "text/plain": [
       "KruskalResult(statistic=3.1513987711538896, pvalue=0.07586190694799404)"
      ]
     },
     "execution_count": 102,
     "metadata": {},
     "output_type": "execute_result"
    }
   ],
   "source": [
    "# Computing average age just below and above the threshold\n",
    "range_900_1100 = bank_debt.loc[(bank_debt['expected_recovery_amount']<=1100) & \n",
    "                      (bank_debt['expected_recovery_amount']>=900)]\n",
    "by_recovery_strategy = range_900_1100.groupby(['recovery_strategy'])\n",
    "by_recovery_strategy['age'].describe().unstack()\n",
    "\n",
    "# Performing Kruskal-Wallis test \n",
    "Level_0_age = range_900_1100.loc[bank_debt['recovery_strategy']==\"Level 0 Recovery\"]['age']\n",
    "Level_1_age = range_900_1100.loc[bank_debt['recovery_strategy']==\"Level 1 Recovery\"]['age']\n",
    "\n",
    "stats.kruskal(Level_0_age,Level_1_age)"
   ]
  },
  {
   "cell_type": "markdown",
   "id": "4b53920c",
   "metadata": {},
   "source": [
    "<div style=\"background-color: #FFFF00; padding: 10px;\">\n",
    "Conclusion: Between the expected recovery amount range of 900 to 1100, the Kruskal-Wallis test suggests that there is a statistically significant difference in ages between the \"Level 0 Recovery\" and \"Level 1 Recovery\" strategies for bank debt. <div>"
   ]
  },
  {
   "cell_type": "markdown",
   "id": "0c8ba2ec",
   "metadata": {},
   "source": [
    "## Task4: Statistical test: sex vs. expected recovery amount"
   ]
  },
  {
   "cell_type": "code",
   "execution_count": 103,
   "id": "dce9d3ac",
   "metadata": {},
   "outputs": [
    {
     "name": "stdout",
     "output_type": "stream",
     "text": [
      "sex                Female  Male\n",
      "recovery_strategy              \n",
      "Level 0 Recovery       32    57\n",
      "Level 1 Recovery       39    55\n"
     ]
    }
   ],
   "source": [
    "crosstab = pd.crosstab(bank_debt.loc[(bank_debt['expected_recovery_amount']<1100) & \n",
    "                                     (bank_debt['expected_recovery_amount']>=900)]\n",
    "                                               ['recovery_strategy'],bank_debt['sex'])\n",
    "print(crosstab)"
   ]
  },
  {
   "cell_type": "markdown",
   "id": "35af9e93",
   "metadata": {},
   "source": [
    "<div style=\"background-color: #FFFF00; padding: 10px;\">\n",
    "Conclusion: The scatter plot depicts the relationship between expected recovery amount and age for bank debt data \n",
    "    <div style>"
   ]
  },
  {
   "cell_type": "markdown",
   "id": "7ae0b0f9",
   "metadata": {},
   "source": [
    "## Task5: Exploratory graphical analysis: recovery amount"
   ]
  },
  {
   "cell_type": "code",
   "execution_count": 104,
   "id": "29737526",
   "metadata": {},
   "outputs": [
    {
     "data": {
      "image/png": "[encoded data removed]",
      "text/plain": [
       "<Figure size 1080x648 with 1 Axes>"
      ]
     },
     "metadata": {
      "needs_background": "light"
     },
     "output_type": "display_data"
    }
   ],
   "source": [
    "# Define the threshold and the range\n",
    "threshold = 1000\n",
    "\n",
    "# Create a subset of data within the specified range\n",
    "subset_data = bank_debt[(bank_debt['expected_recovery_amount'] >= 900) &\n",
    "                   (bank_debt['expected_recovery_amount'] <= 1100)]\n",
    "\n",
    "# Create scatter plot\n",
    "plt.figure(figsize=(15,9))\n",
    "plt.scatter(subset_data['expected_recovery_amount'], subset_data['actual_recovery_amount'])\n",
    "plt.axvline(x=threshold, color='red', linestyle='--', label='Threshold')\n",
    "plt.xlabel('Expected Recovery Amount')\n",
    "plt.ylabel('Actual Recovery Amount')\n",
    "plt.title('Recovery Amount vs. Expected Recovery Amount')\n",
    "plt.legend()\n",
    "plt.show()"
   ]
  },
  {
   "cell_type": "markdown",
   "id": "9dacaf75",
   "metadata": {},
   "source": [
    "<div style=\"background-color: #FFFF00; padding: 10px;\">\n",
    "    Conclusion: The scatter plot illustrates the actual recovery amounts in relation to expected recovery amounts, focusing on a subset within a specific range, with a threshold highlighted.\n",
    "    <div>"
   ]
  },
  {
   "cell_type": "markdown",
   "id": "c24e1d4d",
   "metadata": {},
   "source": [
    "## Task6: Statistical analysis: recovery amount"
   ]
  },
  {
   "cell_type": "code",
   "execution_count": 110,
   "id": "cb9b7e3a",
   "metadata": {},
   "outputs": [
    {
     "name": "stdout",
     "output_type": "stream",
     "text": [
      "Range $900-$1100 - H-statistic: 98.43, p-value: 0.0000\n",
      "Range $950-$1050 - H-statistic: 56.82, p-value: 0.0000\n",
      "There is a significant discontinuity in actual recovery amounts for the $900-$1100 range.\n",
      "There is a significant discontinuity in actual recovery amounts for the $950-$1050 range.\n"
     ]
    }
   ],
   "source": [
    "# Creating 2 subsets of data within the specified ranges\n",
    "subset_range_1 = bank_debt[(bank_debt['expected_recovery_amount'] >= 900) &\n",
    "                      (bank_debt['expected_recovery_amount'] <= 1100)]\n",
    "\n",
    "subset_range_2 = bank_debt[(bank_debt['expected_recovery_amount'] >= 950) &\n",
    "                      (bank_debt['expected_recovery_amount'] <= 1050)]\n",
    "\n",
    "# Performing Kruskal-Wallis tests for both ranges\n",
    "h_stat_1, p_value_1 = stats.kruskal(subset_range_1['actual_recovery_amount'],\n",
    "                                    subset_range_1['expected_recovery_amount'])\n",
    "h_stat_2, p_value_2 = stats.kruskal(subset_range_2['actual_recovery_amount'],\n",
    "                                    subset_range_2['expected_recovery_amount'])\n",
    "\n",
    "# Print results\n",
    "print(f\"Range $900-$1100 - H-statistic: {h_stat_1:.2f}, p-value: {p_value_1:.4f}\")\n",
    "print(f\"Range $950-$1050 - H-statistic: {h_stat_2:.2f}, p-value: {p_value_2:.4f}\")\n",
    "\n",
    "# Interpreting results\n",
    "alpha = 0.05\n",
    "if p_value_1 < alpha:\n",
    "    print(\"There is a significant discontinuity in actual recovery amounts for the $900-$1100 range.\")\n",
    "else:\n",
    "    print(\"There is no significant discontinuity in actual recovery amounts for the $900-$1100 range.\")\n",
    "\n",
    "if p_value_2 < alpha:\n",
    "    print(\"There is a significant discontinuity in actual recovery amounts for the $950-$1050 range.\")\n",
    "else:\n",
    "    print(\"There is no significant discontinuity in actual recovery amounts for the $950-$1050 range.\")"
   ]
  },
  {
   "cell_type": "markdown",
   "id": "7141d1e1",
   "metadata": {},
   "source": [
    "<div style=\"background-color: #FFFF00; padding: 10px;\">\n",
    "Conclusion: The statistical analysis using Kruskal-Wallis tests suggests significant discontinuities in actual recovery amounts within both the USD 900-USD 1100 and USD 950-USD 1050 expected recovery amount ranges.\n",
    "    <div>"
   ]
  },
  {
   "cell_type": "markdown",
   "id": "b8928612",
   "metadata": {},
   "source": [
    "## Task7: Regression modeling: no threshold"
   ]
  },
  {
   "cell_type": "code",
   "execution_count": 106,
   "id": "a6f802f1",
   "metadata": {},
   "outputs": [
    {
     "name": "stdout",
     "output_type": "stream",
     "text": [
      "                              OLS Regression Results                              \n",
      "==================================================================================\n",
      "Dep. Variable:     actual_recovery_amount   R-squared:                       0.817\n",
      "Model:                                OLS   Adj. R-squared:                  0.817\n",
      "Method:                     Least Squares   F-statistic:                     8378.\n",
      "Date:                    Wed, 23 Aug 2023   Prob (F-statistic):               0.00\n",
      "Time:                            17:54:41   Log-Likelihood:                -16936.\n",
      "No. Observations:                    1882   AIC:                         3.388e+04\n",
      "Df Residuals:                        1880   BIC:                         3.389e+04\n",
      "Df Model:                               1                                         \n",
      "Covariance Type:                nonrobust                                         \n",
      "============================================================================================\n",
      "                               coef    std err          t      P>|t|      [0.025      0.975]\n",
      "--------------------------------------------------------------------------------------------\n",
      "const                    -1650.4994     76.506    -21.573      0.000   -1800.545   -1500.454\n",
      "expected_recovery_amount     2.0477      0.022     91.530      0.000       2.004       2.092\n",
      "==============================================================================\n",
      "Omnibus:                     1477.262   Durbin-Watson:                   2.090\n",
      "Prob(Omnibus):                  0.000   Jarque-Bera (JB):            77458.302\n",
      "Skew:                           3.224   Prob(JB):                         0.00\n",
      "Kurtosis:                      33.761   Cond. No.                     5.79e+03\n",
      "==============================================================================\n",
      "\n",
      "Notes:\n",
      "[1] Standard Errors assume that the covariance matrix of the errors is correctly specified.\n",
      "[2] The condition number is large, 5.79e+03. This might indicate that there are\n",
      "strong multicollinearity or other numerical problems.\n"
     ]
    }
   ],
   "source": [
    "# Defining X and y here\n",
    "X = bank_debt['expected_recovery_amount']\n",
    "y = bank_debt['actual_recovery_amount']\n",
    "\n",
    "# regression model building\n",
    "X = sm.add_constant(X) \n",
    "\n",
    "# Constant term\n",
    "model_no_threshold = sm.OLS(y, X).fit()\n",
    "predictions = model.predict(X)\n",
    "\n",
    "# printing out the model summery statastics\n",
    "print(model_no_threshold.summary())"
   ]
  },
  {
   "cell_type": "markdown",
   "id": "bfc9863a",
   "metadata": {},
   "source": [
    "<div style=\"background-color: #FFFF00; padding: 10px;\">\n",
    "Conclusion: The regression model without a threshold explores the linear relationship between expected recovery amount and actual recovery amount for bank debt data, with the model statistics summarized.\n",
    "    <div>"
   ]
  },
  {
   "cell_type": "markdown",
   "id": "4b4cb5d2",
   "metadata": {},
   "source": [
    "## Task8: Regression modeling: adding true threshold"
   ]
  },
  {
   "cell_type": "code",
   "execution_count": 107,
   "id": "51a962a2",
   "metadata": {},
   "outputs": [
    {
     "name": "stdout",
     "output_type": "stream",
     "text": [
      "                              OLS Regression Results                              \n",
      "==================================================================================\n",
      "Dep. Variable:     actual_recovery_amount   R-squared:                       0.819\n",
      "Model:                                OLS   Adj. R-squared:                  0.818\n",
      "Method:                     Least Squares   F-statistic:                     4242.\n",
      "Date:                    Wed, 23 Aug 2023   Prob (F-statistic):               0.00\n",
      "Time:                            17:54:42   Log-Likelihood:                -16926.\n",
      "No. Observations:                    1882   AIC:                         3.386e+04\n",
      "Df Residuals:                        1879   BIC:                         3.387e+04\n",
      "Df Model:                               2                                         \n",
      "Covariance Type:                nonrobust                                         \n",
      "============================================================================================\n",
      "                               coef    std err          t      P>|t|      [0.025      0.975]\n",
      "--------------------------------------------------------------------------------------------\n",
      "const                    -1202.1199    125.637     -9.568      0.000   -1448.522    -955.718\n",
      "expected_recovery_amount     2.0877      0.024     87.048      0.000       2.041       2.135\n",
      "True_Threshold            -643.3944    143.424     -4.486      0.000    -924.682    -362.107\n",
      "==============================================================================\n",
      "Omnibus:                     1473.046   Durbin-Watson:                   2.113\n",
      "Prob(Omnibus):                  0.000   Jarque-Bera (JB):            79375.610\n",
      "Skew:                           3.198   Prob(JB):                         0.00\n",
      "Kurtosis:                      34.166   Cond. No.                     1.38e+04\n",
      "==============================================================================\n",
      "\n",
      "Notes:\n",
      "[1] Standard Errors assume that the covariance matrix of the errors is correctly specified.\n",
      "[2] The condition number is large, 1.38e+04. This might indicate that there are\n",
      "strong multicollinearity or other numerical problems.\n"
     ]
    }
   ],
   "source": [
    "# Defining the threshold\n",
    "threshold = 1000\n",
    "\n",
    "# binary indicator for the true threshold\n",
    "bank_debt['True_Threshold'] = (bank_debt['expected_recovery_amount'] > threshold).astype(int)  # Convert boolean to int\n",
    "\n",
    "# Define the input and output variables for the model\n",
    "X = bank_debt[['expected_recovery_amount', 'True_Threshold']]\n",
    "y = bank_debt['actual_recovery_amount']\n",
    "\n",
    "# constant to the input variables\n",
    "X = sm.add_constant(X)\n",
    "\n",
    "# regression model fitting\n",
    "model = sm.OLS(y, X).fit()\n",
    "\n",
    "# regression summary\n",
    "print(model.summary())"
   ]
  },
  {
   "cell_type": "markdown",
   "id": "adcc58ac",
   "metadata": {},
   "source": [
    "<div style=\"background-color: #FFFF00; padding: 10px;\">\n",
    "    Conclusion: A regression model is created to analyze the impact of expected recovery amount and a binary indicator for the true threshold (above or below 1000) on actual recovery amount, with the regression summary providing insights.\n",
    "    <div>"
   ]
  },
  {
   "cell_type": "code",
   "execution_count": null,
   "id": "2b82f5dc",
   "metadata": {},
   "outputs": [],
   "source": []
  }
 ],
 "metadata": {
  "kernelspec": {
   "display_name": "Python 3 (ipykernel)",
   "language": "python",
   "name": "python3"
  },
  "language_info": {
   "codemirror_mode": {
    "name": "ipython",
    "version": 3
   },
   "file_extension": ".py",
   "mimetype": "text/x-python",
   "name": "python",
   "nbconvert_exporter": "python",
   "pygments_lexer": "ipython3",
   "version": "3.9.12"
  }
 },
 "nbformat": 4,
 "nbformat_minor": 5
}
