{
 "cells": [
  {
   "cell_type": "code",
   "execution_count": 3,
   "id": "2c8c1677",
   "metadata": {},
   "outputs": [],
   "source": [
    "import pandas as pd\n",
    "import numpy as np\n",
    "import matplotlib.pyplot as plt\n",
    "import scipy.stats as stats\n",
    "import statsmodels.api as sm\n"
   ]
  },
  {
   "cell_type": "code",
   "execution_count": 4,
   "id": "4c8ff704",
   "metadata": {},
   "outputs": [],
   "source": [
    "df = pd.read_csv('bank_data.csv')"
   ]
  },
  {
   "cell_type": "code",
   "execution_count": 5,
   "id": "482e776c",
   "metadata": {},
   "outputs": [
    {
     "data": {
      "text/html": [
       "<div>\n",
       "<style scoped>\n",
       "    .dataframe tbody tr th:only-of-type {\n",
       "        vertical-align: middle;\n",
       "    }\n",
       "\n",
       "    .dataframe tbody tr th {\n",
       "        vertical-align: top;\n",
       "    }\n",
       "\n",
       "    .dataframe thead th {\n",
       "        text-align: right;\n",
       "    }\n",
       "</style>\n",
       "<table border=\"1\" class=\"dataframe\">\n",
       "  <thead>\n",
       "    <tr style=\"text-align: right;\">\n",
       "      <th></th>\n",
       "      <th>id</th>\n",
       "      <th>expected_recovery_amount</th>\n",
       "      <th>actual_recovery_amount</th>\n",
       "      <th>recovery_strategy</th>\n",
       "      <th>age</th>\n",
       "      <th>sex</th>\n",
       "    </tr>\n",
       "  </thead>\n",
       "  <tbody>\n",
       "    <tr>\n",
       "      <th>0</th>\n",
       "      <td>2030</td>\n",
       "      <td>194</td>\n",
       "      <td>263.540000</td>\n",
       "      <td>Level 0 Recovery</td>\n",
       "      <td>19</td>\n",
       "      <td>Male</td>\n",
       "    </tr>\n",
       "    <tr>\n",
       "      <th>1</th>\n",
       "      <td>1150</td>\n",
       "      <td>486</td>\n",
       "      <td>416.090000</td>\n",
       "      <td>Level 0 Recovery</td>\n",
       "      <td>25</td>\n",
       "      <td>Female</td>\n",
       "    </tr>\n",
       "    <tr>\n",
       "      <th>2</th>\n",
       "      <td>380</td>\n",
       "      <td>527</td>\n",
       "      <td>429.350000</td>\n",
       "      <td>Level 0 Recovery</td>\n",
       "      <td>27</td>\n",
       "      <td>Male</td>\n",
       "    </tr>\n",
       "    <tr>\n",
       "      <th>3</th>\n",
       "      <td>1838</td>\n",
       "      <td>536</td>\n",
       "      <td>296.990000</td>\n",
       "      <td>Level 0 Recovery</td>\n",
       "      <td>25</td>\n",
       "      <td>Male</td>\n",
       "    </tr>\n",
       "    <tr>\n",
       "      <th>4</th>\n",
       "      <td>1995</td>\n",
       "      <td>541</td>\n",
       "      <td>346.385000</td>\n",
       "      <td>Level 0 Recovery</td>\n",
       "      <td>34</td>\n",
       "      <td>Male</td>\n",
       "    </tr>\n",
       "    <tr>\n",
       "      <th>...</th>\n",
       "      <td>...</td>\n",
       "      <td>...</td>\n",
       "      <td>...</td>\n",
       "      <td>...</td>\n",
       "      <td>...</td>\n",
       "      <td>...</td>\n",
       "    </tr>\n",
       "    <tr>\n",
       "      <th>1877</th>\n",
       "      <td>361</td>\n",
       "      <td>9785</td>\n",
       "      <td>15388.195990</td>\n",
       "      <td>Level 4 Recovery</td>\n",
       "      <td>65</td>\n",
       "      <td>Female</td>\n",
       "    </tr>\n",
       "    <tr>\n",
       "      <th>1878</th>\n",
       "      <td>196</td>\n",
       "      <td>9857</td>\n",
       "      <td>9709.909257</td>\n",
       "      <td>Level 4 Recovery</td>\n",
       "      <td>68</td>\n",
       "      <td>Female</td>\n",
       "    </tr>\n",
       "    <tr>\n",
       "      <th>1879</th>\n",
       "      <td>313</td>\n",
       "      <td>9859</td>\n",
       "      <td>30209.181790</td>\n",
       "      <td>Level 4 Recovery</td>\n",
       "      <td>58</td>\n",
       "      <td>Female</td>\n",
       "    </tr>\n",
       "    <tr>\n",
       "      <th>1880</th>\n",
       "      <td>1781</td>\n",
       "      <td>9920</td>\n",
       "      <td>20386.232190</td>\n",
       "      <td>Level 4 Recovery</td>\n",
       "      <td>67</td>\n",
       "      <td>Female</td>\n",
       "    </tr>\n",
       "    <tr>\n",
       "      <th>1881</th>\n",
       "      <td>522</td>\n",
       "      <td>9964</td>\n",
       "      <td>16706.305920</td>\n",
       "      <td>Level 4 Recovery</td>\n",
       "      <td>53</td>\n",
       "      <td>Male</td>\n",
       "    </tr>\n",
       "  </tbody>\n",
       "</table>\n",
       "<p>1882 rows × 6 columns</p>\n",
       "</div>"
      ],
      "text/plain": [
       "        id  expected_recovery_amount  actual_recovery_amount  \\\n",
       "0     2030                       194              263.540000   \n",
       "1     1150                       486              416.090000   \n",
       "2      380                       527              429.350000   \n",
       "3     1838                       536              296.990000   \n",
       "4     1995                       541              346.385000   \n",
       "...    ...                       ...                     ...   \n",
       "1877   361                      9785            15388.195990   \n",
       "1878   196                      9857             9709.909257   \n",
       "1879   313                      9859            30209.181790   \n",
       "1880  1781                      9920            20386.232190   \n",
       "1881   522                      9964            16706.305920   \n",
       "\n",
       "     recovery_strategy  age     sex  \n",
       "0     Level 0 Recovery   19    Male  \n",
       "1     Level 0 Recovery   25  Female  \n",
       "2     Level 0 Recovery   27    Male  \n",
       "3     Level 0 Recovery   25    Male  \n",
       "4     Level 0 Recovery   34    Male  \n",
       "...                ...  ...     ...  \n",
       "1877  Level 4 Recovery   65  Female  \n",
       "1878  Level 4 Recovery   68  Female  \n",
       "1879  Level 4 Recovery   58  Female  \n",
       "1880  Level 4 Recovery   67  Female  \n",
       "1881  Level 4 Recovery   53    Male  \n",
       "\n",
       "[1882 rows x 6 columns]"
      ]
     },
     "execution_count": 5,
     "metadata": {},
     "output_type": "execute_result"
    }
   ],
   "source": [
    "df"
   ]
  },
  {
   "cell_type": "code",
   "execution_count": 6,
   "id": "29883852",
   "metadata": {},
   "outputs": [
    {
     "data": {
      "text/html": [
       "<div>\n",
       "<style scoped>\n",
       "    .dataframe tbody tr th:only-of-type {\n",
       "        vertical-align: middle;\n",
       "    }\n",
       "\n",
       "    .dataframe tbody tr th {\n",
       "        vertical-align: top;\n",
       "    }\n",
       "\n",
       "    .dataframe thead th {\n",
       "        text-align: right;\n",
       "    }\n",
       "</style>\n",
       "<table border=\"1\" class=\"dataframe\">\n",
       "  <thead>\n",
       "    <tr style=\"text-align: right;\">\n",
       "      <th></th>\n",
       "      <th>id</th>\n",
       "      <th>expected_recovery_amount</th>\n",
       "      <th>actual_recovery_amount</th>\n",
       "      <th>recovery_strategy</th>\n",
       "      <th>age</th>\n",
       "      <th>sex</th>\n",
       "    </tr>\n",
       "  </thead>\n",
       "  <tbody>\n",
       "    <tr>\n",
       "      <th>0</th>\n",
       "      <td>2030</td>\n",
       "      <td>194</td>\n",
       "      <td>263.540</td>\n",
       "      <td>Level 0 Recovery</td>\n",
       "      <td>19</td>\n",
       "      <td>Male</td>\n",
       "    </tr>\n",
       "    <tr>\n",
       "      <th>1</th>\n",
       "      <td>1150</td>\n",
       "      <td>486</td>\n",
       "      <td>416.090</td>\n",
       "      <td>Level 0 Recovery</td>\n",
       "      <td>25</td>\n",
       "      <td>Female</td>\n",
       "    </tr>\n",
       "    <tr>\n",
       "      <th>2</th>\n",
       "      <td>380</td>\n",
       "      <td>527</td>\n",
       "      <td>429.350</td>\n",
       "      <td>Level 0 Recovery</td>\n",
       "      <td>27</td>\n",
       "      <td>Male</td>\n",
       "    </tr>\n",
       "    <tr>\n",
       "      <th>3</th>\n",
       "      <td>1838</td>\n",
       "      <td>536</td>\n",
       "      <td>296.990</td>\n",
       "      <td>Level 0 Recovery</td>\n",
       "      <td>25</td>\n",
       "      <td>Male</td>\n",
       "    </tr>\n",
       "    <tr>\n",
       "      <th>4</th>\n",
       "      <td>1995</td>\n",
       "      <td>541</td>\n",
       "      <td>346.385</td>\n",
       "      <td>Level 0 Recovery</td>\n",
       "      <td>34</td>\n",
       "      <td>Male</td>\n",
       "    </tr>\n",
       "  </tbody>\n",
       "</table>\n",
       "</div>"
      ],
      "text/plain": [
       "     id  expected_recovery_amount  actual_recovery_amount recovery_strategy  \\\n",
       "0  2030                       194                 263.540  Level 0 Recovery   \n",
       "1  1150                       486                 416.090  Level 0 Recovery   \n",
       "2   380                       527                 429.350  Level 0 Recovery   \n",
       "3  1838                       536                 296.990  Level 0 Recovery   \n",
       "4  1995                       541                 346.385  Level 0 Recovery   \n",
       "\n",
       "   age     sex  \n",
       "0   19    Male  \n",
       "1   25  Female  \n",
       "2   27    Male  \n",
       "3   25    Male  \n",
       "4   34    Male  "
      ]
     },
     "execution_count": 6,
     "metadata": {},
     "output_type": "execute_result"
    }
   ],
   "source": [
    "df.head()"
   ]
  },
  {
   "cell_type": "code",
   "execution_count": 7,
   "id": "8066b064",
   "metadata": {},
   "outputs": [
    {
     "data": {
      "text/html": [
       "<div>\n",
       "<style scoped>\n",
       "    .dataframe tbody tr th:only-of-type {\n",
       "        vertical-align: middle;\n",
       "    }\n",
       "\n",
       "    .dataframe tbody tr th {\n",
       "        vertical-align: top;\n",
       "    }\n",
       "\n",
       "    .dataframe thead th {\n",
       "        text-align: right;\n",
       "    }\n",
       "</style>\n",
       "<table border=\"1\" class=\"dataframe\">\n",
       "  <thead>\n",
       "    <tr style=\"text-align: right;\">\n",
       "      <th></th>\n",
       "      <th>id</th>\n",
       "      <th>expected_recovery_amount</th>\n",
       "      <th>actual_recovery_amount</th>\n",
       "      <th>recovery_strategy</th>\n",
       "      <th>age</th>\n",
       "      <th>sex</th>\n",
       "    </tr>\n",
       "  </thead>\n",
       "  <tbody>\n",
       "    <tr>\n",
       "      <th>1877</th>\n",
       "      <td>361</td>\n",
       "      <td>9785</td>\n",
       "      <td>15388.195990</td>\n",
       "      <td>Level 4 Recovery</td>\n",
       "      <td>65</td>\n",
       "      <td>Female</td>\n",
       "    </tr>\n",
       "    <tr>\n",
       "      <th>1878</th>\n",
       "      <td>196</td>\n",
       "      <td>9857</td>\n",
       "      <td>9709.909257</td>\n",
       "      <td>Level 4 Recovery</td>\n",
       "      <td>68</td>\n",
       "      <td>Female</td>\n",
       "    </tr>\n",
       "    <tr>\n",
       "      <th>1879</th>\n",
       "      <td>313</td>\n",
       "      <td>9859</td>\n",
       "      <td>30209.181790</td>\n",
       "      <td>Level 4 Recovery</td>\n",
       "      <td>58</td>\n",
       "      <td>Female</td>\n",
       "    </tr>\n",
       "    <tr>\n",
       "      <th>1880</th>\n",
       "      <td>1781</td>\n",
       "      <td>9920</td>\n",
       "      <td>20386.232190</td>\n",
       "      <td>Level 4 Recovery</td>\n",
       "      <td>67</td>\n",
       "      <td>Female</td>\n",
       "    </tr>\n",
       "    <tr>\n",
       "      <th>1881</th>\n",
       "      <td>522</td>\n",
       "      <td>9964</td>\n",
       "      <td>16706.305920</td>\n",
       "      <td>Level 4 Recovery</td>\n",
       "      <td>53</td>\n",
       "      <td>Male</td>\n",
       "    </tr>\n",
       "  </tbody>\n",
       "</table>\n",
       "</div>"
      ],
      "text/plain": [
       "        id  expected_recovery_amount  actual_recovery_amount  \\\n",
       "1877   361                      9785            15388.195990   \n",
       "1878   196                      9857             9709.909257   \n",
       "1879   313                      9859            30209.181790   \n",
       "1880  1781                      9920            20386.232190   \n",
       "1881   522                      9964            16706.305920   \n",
       "\n",
       "     recovery_strategy  age     sex  \n",
       "1877  Level 4 Recovery   65  Female  \n",
       "1878  Level 4 Recovery   68  Female  \n",
       "1879  Level 4 Recovery   58  Female  \n",
       "1880  Level 4 Recovery   67  Female  \n",
       "1881  Level 4 Recovery   53    Male  "
      ]
     },
     "execution_count": 7,
     "metadata": {},
     "output_type": "execute_result"
    }
   ],
   "source": [
    "df.tail()"
   ]
  },
  {
   "cell_type": "code",
   "execution_count": 8,
   "id": "6c30cef0",
   "metadata": {},
   "outputs": [
    {
     "data": {
      "text/html": [
       "<div>\n",
       "<style scoped>\n",
       "    .dataframe tbody tr th:only-of-type {\n",
       "        vertical-align: middle;\n",
       "    }\n",
       "\n",
       "    .dataframe tbody tr th {\n",
       "        vertical-align: top;\n",
       "    }\n",
       "\n",
       "    .dataframe thead th {\n",
       "        text-align: right;\n",
       "    }\n",
       "</style>\n",
       "<table border=\"1\" class=\"dataframe\">\n",
       "  <thead>\n",
       "    <tr style=\"text-align: right;\">\n",
       "      <th></th>\n",
       "      <th>id</th>\n",
       "      <th>expected_recovery_amount</th>\n",
       "      <th>actual_recovery_amount</th>\n",
       "      <th>age</th>\n",
       "    </tr>\n",
       "  </thead>\n",
       "  <tbody>\n",
       "    <tr>\n",
       "      <th>count</th>\n",
       "      <td>1882.000000</td>\n",
       "      <td>1882.000000</td>\n",
       "      <td>1882.000000</td>\n",
       "      <td>1882.000000</td>\n",
       "    </tr>\n",
       "    <tr>\n",
       "      <th>mean</th>\n",
       "      <td>1035.596174</td>\n",
       "      <td>2759.967588</td>\n",
       "      <td>4000.967837</td>\n",
       "      <td>39.650372</td>\n",
       "    </tr>\n",
       "    <tr>\n",
       "      <th>std</th>\n",
       "      <td>591.458429</td>\n",
       "      <td>2019.826565</td>\n",
       "      <td>4576.506350</td>\n",
       "      <td>15.453072</td>\n",
       "    </tr>\n",
       "    <tr>\n",
       "      <th>min</th>\n",
       "      <td>6.000000</td>\n",
       "      <td>194.000000</td>\n",
       "      <td>200.425000</td>\n",
       "      <td>18.000000</td>\n",
       "    </tr>\n",
       "    <tr>\n",
       "      <th>25%</th>\n",
       "      <td>534.250000</td>\n",
       "      <td>1261.250000</td>\n",
       "      <td>1045.190300</td>\n",
       "      <td>28.000000</td>\n",
       "    </tr>\n",
       "    <tr>\n",
       "      <th>50%</th>\n",
       "      <td>1029.500000</td>\n",
       "      <td>2062.000000</td>\n",
       "      <td>2115.446373</td>\n",
       "      <td>35.000000</td>\n",
       "    </tr>\n",
       "    <tr>\n",
       "      <th>75%</th>\n",
       "      <td>1551.750000</td>\n",
       "      <td>3569.500000</td>\n",
       "      <td>5417.237207</td>\n",
       "      <td>50.000000</td>\n",
       "    </tr>\n",
       "    <tr>\n",
       "      <th>max</th>\n",
       "      <td>2056.000000</td>\n",
       "      <td>9964.000000</td>\n",
       "      <td>34398.479710</td>\n",
       "      <td>84.000000</td>\n",
       "    </tr>\n",
       "  </tbody>\n",
       "</table>\n",
       "</div>"
      ],
      "text/plain": [
       "                id  expected_recovery_amount  actual_recovery_amount  \\\n",
       "count  1882.000000               1882.000000             1882.000000   \n",
       "mean   1035.596174               2759.967588             4000.967837   \n",
       "std     591.458429               2019.826565             4576.506350   \n",
       "min       6.000000                194.000000              200.425000   \n",
       "25%     534.250000               1261.250000             1045.190300   \n",
       "50%    1029.500000               2062.000000             2115.446373   \n",
       "75%    1551.750000               3569.500000             5417.237207   \n",
       "max    2056.000000               9964.000000            34398.479710   \n",
       "\n",
       "               age  \n",
       "count  1882.000000  \n",
       "mean     39.650372  \n",
       "std      15.453072  \n",
       "min      18.000000  \n",
       "25%      28.000000  \n",
       "50%      35.000000  \n",
       "75%      50.000000  \n",
       "max      84.000000  "
      ]
     },
     "execution_count": 8,
     "metadata": {},
     "output_type": "execute_result"
    }
   ],
   "source": [
    "df.describe()"
   ]
  },
  {
   "cell_type": "code",
   "execution_count": 9,
   "id": "0f5c2bd8",
   "metadata": {},
   "outputs": [
    {
     "name": "stdout",
     "output_type": "stream",
     "text": [
      "<class 'pandas.core.frame.DataFrame'>\n",
      "RangeIndex: 1882 entries, 0 to 1881\n",
      "Data columns (total 6 columns):\n",
      " #   Column                    Non-Null Count  Dtype  \n",
      "---  ------                    --------------  -----  \n",
      " 0   id                        1882 non-null   int64  \n",
      " 1   expected_recovery_amount  1882 non-null   int64  \n",
      " 2   actual_recovery_amount    1882 non-null   float64\n",
      " 3   recovery_strategy         1882 non-null   object \n",
      " 4   age                       1882 non-null   int64  \n",
      " 5   sex                       1882 non-null   object \n",
      "dtypes: float64(1), int64(3), object(2)\n",
      "memory usage: 88.3+ KB\n"
     ]
    }
   ],
   "source": [
    "df.info()"
   ]
  },
  {
   "cell_type": "code",
   "execution_count": 10,
   "id": "751541d4",
   "metadata": {},
   "outputs": [
    {
     "data": {
      "text/html": [
       "<div>\n",
       "<style scoped>\n",
       "    .dataframe tbody tr th:only-of-type {\n",
       "        vertical-align: middle;\n",
       "    }\n",
       "\n",
       "    .dataframe tbody tr th {\n",
       "        vertical-align: top;\n",
       "    }\n",
       "\n",
       "    .dataframe thead th {\n",
       "        text-align: right;\n",
       "    }\n",
       "</style>\n",
       "<table border=\"1\" class=\"dataframe\">\n",
       "  <thead>\n",
       "    <tr style=\"text-align: right;\">\n",
       "      <th></th>\n",
       "      <th>id</th>\n",
       "      <th>expected_recovery_amount</th>\n",
       "      <th>actual_recovery_amount</th>\n",
       "      <th>recovery_strategy</th>\n",
       "      <th>age</th>\n",
       "      <th>sex</th>\n",
       "    </tr>\n",
       "  </thead>\n",
       "  <tbody>\n",
       "    <tr>\n",
       "      <th>0</th>\n",
       "      <td>False</td>\n",
       "      <td>False</td>\n",
       "      <td>False</td>\n",
       "      <td>False</td>\n",
       "      <td>False</td>\n",
       "      <td>False</td>\n",
       "    </tr>\n",
       "    <tr>\n",
       "      <th>1</th>\n",
       "      <td>False</td>\n",
       "      <td>False</td>\n",
       "      <td>False</td>\n",
       "      <td>False</td>\n",
       "      <td>False</td>\n",
       "      <td>False</td>\n",
       "    </tr>\n",
       "    <tr>\n",
       "      <th>2</th>\n",
       "      <td>False</td>\n",
       "      <td>False</td>\n",
       "      <td>False</td>\n",
       "      <td>False</td>\n",
       "      <td>False</td>\n",
       "      <td>False</td>\n",
       "    </tr>\n",
       "    <tr>\n",
       "      <th>3</th>\n",
       "      <td>False</td>\n",
       "      <td>False</td>\n",
       "      <td>False</td>\n",
       "      <td>False</td>\n",
       "      <td>False</td>\n",
       "      <td>False</td>\n",
       "    </tr>\n",
       "    <tr>\n",
       "      <th>4</th>\n",
       "      <td>False</td>\n",
       "      <td>False</td>\n",
       "      <td>False</td>\n",
       "      <td>False</td>\n",
       "      <td>False</td>\n",
       "      <td>False</td>\n",
       "    </tr>\n",
       "    <tr>\n",
       "      <th>...</th>\n",
       "      <td>...</td>\n",
       "      <td>...</td>\n",
       "      <td>...</td>\n",
       "      <td>...</td>\n",
       "      <td>...</td>\n",
       "      <td>...</td>\n",
       "    </tr>\n",
       "    <tr>\n",
       "      <th>1877</th>\n",
       "      <td>False</td>\n",
       "      <td>False</td>\n",
       "      <td>False</td>\n",
       "      <td>False</td>\n",
       "      <td>False</td>\n",
       "      <td>False</td>\n",
       "    </tr>\n",
       "    <tr>\n",
       "      <th>1878</th>\n",
       "      <td>False</td>\n",
       "      <td>False</td>\n",
       "      <td>False</td>\n",
       "      <td>False</td>\n",
       "      <td>False</td>\n",
       "      <td>False</td>\n",
       "    </tr>\n",
       "    <tr>\n",
       "      <th>1879</th>\n",
       "      <td>False</td>\n",
       "      <td>False</td>\n",
       "      <td>False</td>\n",
       "      <td>False</td>\n",
       "      <td>False</td>\n",
       "      <td>False</td>\n",
       "    </tr>\n",
       "    <tr>\n",
       "      <th>1880</th>\n",
       "      <td>False</td>\n",
       "      <td>False</td>\n",
       "      <td>False</td>\n",
       "      <td>False</td>\n",
       "      <td>False</td>\n",
       "      <td>False</td>\n",
       "    </tr>\n",
       "    <tr>\n",
       "      <th>1881</th>\n",
       "      <td>False</td>\n",
       "      <td>False</td>\n",
       "      <td>False</td>\n",
       "      <td>False</td>\n",
       "      <td>False</td>\n",
       "      <td>False</td>\n",
       "    </tr>\n",
       "  </tbody>\n",
       "</table>\n",
       "<p>1882 rows × 6 columns</p>\n",
       "</div>"
      ],
      "text/plain": [
       "         id  expected_recovery_amount  actual_recovery_amount  \\\n",
       "0     False                     False                   False   \n",
       "1     False                     False                   False   \n",
       "2     False                     False                   False   \n",
       "3     False                     False                   False   \n",
       "4     False                     False                   False   \n",
       "...     ...                       ...                     ...   \n",
       "1877  False                     False                   False   \n",
       "1878  False                     False                   False   \n",
       "1879  False                     False                   False   \n",
       "1880  False                     False                   False   \n",
       "1881  False                     False                   False   \n",
       "\n",
       "      recovery_strategy    age    sex  \n",
       "0                 False  False  False  \n",
       "1                 False  False  False  \n",
       "2                 False  False  False  \n",
       "3                 False  False  False  \n",
       "4                 False  False  False  \n",
       "...                 ...    ...    ...  \n",
       "1877              False  False  False  \n",
       "1878              False  False  False  \n",
       "1879              False  False  False  \n",
       "1880              False  False  False  \n",
       "1881              False  False  False  \n",
       "\n",
       "[1882 rows x 6 columns]"
      ]
     },
     "execution_count": 10,
     "metadata": {},
     "output_type": "execute_result"
    }
   ],
   "source": [
    "df.isnull()"
   ]
  },
  {
   "cell_type": "code",
   "execution_count": 11,
   "id": "b0a25039",
   "metadata": {},
   "outputs": [
    {
     "data": {
      "text/plain": [
       "id                          0\n",
       "expected_recovery_amount    0\n",
       "actual_recovery_amount      0\n",
       "recovery_strategy           0\n",
       "age                         0\n",
       "sex                         0\n",
       "dtype: int64"
      ]
     },
     "execution_count": 11,
     "metadata": {},
     "output_type": "execute_result"
    }
   ],
   "source": [
    "df.isnull().sum()"
   ]
  },
  {
   "cell_type": "code",
   "execution_count": 12,
   "id": "bca571b5",
   "metadata": {},
   "outputs": [
    {
     "data": {
      "text/plain": [
       "array(['id', 'expected_recovery_amount', 'actual_recovery_amount',\n",
       "       'recovery_strategy', 'age', 'sex'], dtype=object)"
      ]
     },
     "execution_count": 12,
     "metadata": {},
     "output_type": "execute_result"
    }
   ],
   "source": [
    "df.columns.values"
   ]
  },
  {
   "cell_type": "markdown",
   "id": "a6c05347",
   "metadata": {},
   "source": [
    "### Graphical Exploratory Data Analysis "
   ]
  },
  {
   "cell_type": "code",
   "execution_count": 13,
   "id": "9fbb34c9",
   "metadata": {},
   "outputs": [
    {
     "data": {
      "image/png": "[encoded data removed]",
      "text/plain": [
       "<Figure size 432x288 with 1 Axes>"
      ]
     },
     "metadata": {
      "needs_background": "light"
     },
     "output_type": "display_data"
    }
   ],
   "source": [
    "plt.scatter(df['expected_recovery_amount'], df['age'])\n",
    "plt.xlabel('expected_recovery_amount')\n",
    "plt.ylabel('age')\n",
    "plt.title('age vs. expected_recovery_amount')\n",
    "plt.show()"
   ]
  },
  {
   "cell_type": "markdown",
   "id": "1125f716",
   "metadata": {},
   "source": [
    "### Statistical Test - Age vs. Expected Recovery Amount"
   ]
  },
  {
   "cell_type": "code",
   "execution_count": 14,
   "id": "fa5e2e37",
   "metadata": {},
   "outputs": [
    {
     "name": "stdout",
     "output_type": "stream",
     "text": [
      "T-Statistic: -13.759810322222165, P-Value: 4.071778578392043e-41\n"
     ]
    }
   ],
   "source": [
    "below_threshold = df[df['expected_recovery_amount'] <= 1000]['age']\n",
    "above_threshold = df[df['expected_recovery_amount'] > 1000]['age']\n",
    "t_stat, p_value = stats.ttest_ind(below_threshold, above_threshold)\n",
    "print(f\"T-Statistic: {t_stat}, P-Value: {p_value}\")"
   ]
  },
  {
   "cell_type": "markdown",
   "id": "b065d128",
   "metadata": {},
   "source": [
    "### Statistical Test - Sex vs. Expected Recovery Amount "
   ]
  },
  {
   "cell_type": "code",
   "execution_count": null,
   "id": "795ceca1",
   "metadata": {},
   "outputs": [],
   "source": []
  },
  {
   "cell_type": "code",
   "execution_count": 15,
   "id": "c89fc863",
   "metadata": {},
   "outputs": [
    {
     "name": "stdout",
     "output_type": "stream",
     "text": [
      "Below Threshold Data:\n",
      "     id  expected_recovery_amount  actual_recovery_amount recovery_strategy  \\\n",
      "0  2030                       194                 263.540  Level 0 Recovery   \n",
      "1  1150                       486                 416.090  Level 0 Recovery   \n",
      "2   380                       527                 429.350  Level 0 Recovery   \n",
      "3  1838                       536                 296.990  Level 0 Recovery   \n",
      "4  1995                       541                 346.385  Level 0 Recovery   \n",
      "\n",
      "   age     sex  \n",
      "0   19    Male  \n",
      "1   25  Female  \n",
      "2   27    Male  \n",
      "3   25    Male  \n",
      "4   34    Male  \n",
      "Above Threshold Data:\n",
      "       id  expected_recovery_amount  actual_recovery_amount recovery_strategy  \\\n",
      "247  1629                      1001             1723.549220  Level 1 Recovery   \n",
      "248  2021                      1001              612.777647  Level 1 Recovery   \n",
      "249  1478                      1002             1659.941630  Level 1 Recovery   \n",
      "250   153                      1005              735.264893  Level 1 Recovery   \n",
      "251  1359                      1007              775.670190  Level 1 Recovery   \n",
      "\n",
      "     age     sex  \n",
      "247   35    Male  \n",
      "248   25  Female  \n",
      "249   31    Male  \n",
      "250   33    Male  \n",
      "251   26  Female  \n",
      "Unique 'sex' Values:\n",
      "['Male' 'Female']\n",
      "Number of Data Points in Each Category:\n",
      "Below Threshold: 247\n",
      "Above Threshold: 1635\n"
     ]
    },
    {
     "ename": "ValueError",
     "evalue": "No data; `observed` has size 0.",
     "output_type": "error",
     "traceback": [
      "\u001b[1;31m---------------------------------------------------------------------------\u001b[0m",
      "\u001b[1;31mValueError\u001b[0m                                Traceback (most recent call last)",
      "\u001b[1;32m<ipython-input-15-7d550a967283>\u001b[0m in \u001b[0;36m<module>\u001b[1;34m\u001b[0m\n\u001b[0;32m     20\u001b[0m \u001b[1;31m# Perform the chi-square test\u001b[0m\u001b[1;33m\u001b[0m\u001b[1;33m\u001b[0m\u001b[1;33m\u001b[0m\u001b[0m\n\u001b[0;32m     21\u001b[0m \u001b[0mcross_tab\u001b[0m \u001b[1;33m=\u001b[0m \u001b[0mpd\u001b[0m\u001b[1;33m.\u001b[0m\u001b[0mcrosstab\u001b[0m\u001b[1;33m(\u001b[0m\u001b[0mbelow_threshold_data\u001b[0m\u001b[1;33m[\u001b[0m\u001b[1;34m'sex'\u001b[0m\u001b[1;33m]\u001b[0m\u001b[1;33m,\u001b[0m \u001b[0mabove_threshold_data\u001b[0m\u001b[1;33m[\u001b[0m\u001b[1;34m'sex'\u001b[0m\u001b[1;33m]\u001b[0m\u001b[1;33m)\u001b[0m\u001b[1;33m\u001b[0m\u001b[1;33m\u001b[0m\u001b[0m\n\u001b[1;32m---> 22\u001b[1;33m \u001b[0mchi2\u001b[0m\u001b[1;33m,\u001b[0m \u001b[0mp_value\u001b[0m\u001b[1;33m,\u001b[0m \u001b[0m_\u001b[0m\u001b[1;33m,\u001b[0m \u001b[0m_\u001b[0m \u001b[1;33m=\u001b[0m \u001b[0mstats\u001b[0m\u001b[1;33m.\u001b[0m\u001b[0mchi2_contingency\u001b[0m\u001b[1;33m(\u001b[0m\u001b[0mcross_tab\u001b[0m\u001b[1;33m)\u001b[0m\u001b[1;33m\u001b[0m\u001b[1;33m\u001b[0m\u001b[0m\n\u001b[0m\u001b[0;32m     23\u001b[0m \u001b[0mprint\u001b[0m\u001b[1;33m(\u001b[0m\u001b[1;34mf\"Chi-Square: {chi2}, P-Value: {p_value}\"\u001b[0m\u001b[1;33m)\u001b[0m\u001b[1;33m\u001b[0m\u001b[1;33m\u001b[0m\u001b[0m\n",
      "\u001b[1;32m~\\anaconda3\\lib\\site-packages\\scipy\\stats\\contingency.py\u001b[0m in \u001b[0;36mchi2_contingency\u001b[1;34m(observed, correction, lambda_)\u001b[0m\n\u001b[0;32m    243\u001b[0m         \u001b[1;32mraise\u001b[0m \u001b[0mValueError\u001b[0m\u001b[1;33m(\u001b[0m\u001b[1;34m\"All values in `observed` must be nonnegative.\"\u001b[0m\u001b[1;33m)\u001b[0m\u001b[1;33m\u001b[0m\u001b[1;33m\u001b[0m\u001b[0m\n\u001b[0;32m    244\u001b[0m     \u001b[1;32mif\u001b[0m \u001b[0mobserved\u001b[0m\u001b[1;33m.\u001b[0m\u001b[0msize\u001b[0m \u001b[1;33m==\u001b[0m \u001b[1;36m0\u001b[0m\u001b[1;33m:\u001b[0m\u001b[1;33m\u001b[0m\u001b[1;33m\u001b[0m\u001b[0m\n\u001b[1;32m--> 245\u001b[1;33m         \u001b[1;32mraise\u001b[0m \u001b[0mValueError\u001b[0m\u001b[1;33m(\u001b[0m\u001b[1;34m\"No data; `observed` has size 0.\"\u001b[0m\u001b[1;33m)\u001b[0m\u001b[1;33m\u001b[0m\u001b[1;33m\u001b[0m\u001b[0m\n\u001b[0m\u001b[0;32m    246\u001b[0m \u001b[1;33m\u001b[0m\u001b[0m\n\u001b[0;32m    247\u001b[0m     \u001b[0mexpected\u001b[0m \u001b[1;33m=\u001b[0m \u001b[0mexpected_freq\u001b[0m\u001b[1;33m(\u001b[0m\u001b[0mobserved\u001b[0m\u001b[1;33m)\u001b[0m\u001b[1;33m\u001b[0m\u001b[1;33m\u001b[0m\u001b[0m\n",
      "\u001b[1;31mValueError\u001b[0m: No data; `observed` has size 0."
     ]
    }
   ],
   "source": [
    "below_threshold_data = df[df['expected_recovery_amount'] <= 1000]\n",
    "above_threshold_data = df[df['expected_recovery_amount'] > 1000]\n",
    "\n",
    "# Debugging: Check the data in each category\n",
    "print(\"Below Threshold Data:\")\n",
    "print(below_threshold_data.head())\n",
    "\n",
    "print(\"Above Threshold Data:\")\n",
    "print(above_threshold_data.head())\n",
    "\n",
    "# Verify that 'Sex' column has valid data\n",
    "print(\"Unique 'sex' Values:\")\n",
    "print(df['sex'].unique())\n",
    "\n",
    "# Verify that you have a reasonable distribution of data points in each category\n",
    "print(\"Number of Data Points in Each Category:\")\n",
    "print(\"Below Threshold:\", below_threshold_data.shape[0])\n",
    "print(\"Above Threshold:\", above_threshold_data.shape[0])\n",
    "\n",
    "# Perform the chi-square test\n",
    "cross_tab = pd.crosstab(below_threshold_data['sex'], above_threshold_data['sex'])\n",
    "chi2, p_value, _, _ = stats.chi2_contingency(cross_tab)\n",
    "print(f\"Chi-Square: {chi2}, P-Value: {p_value}\")"
   ]
  },
  {
   "cell_type": "markdown",
   "id": "1e15be09",
   "metadata": {},
   "source": [
    "### Exploratory Graphical Analysis - Recovery Amount"
   ]
  },
  {
   "cell_type": "code",
   "execution_count": 16,
   "id": "56b81440",
   "metadata": {},
   "outputs": [
    {
     "data": {
      "image/png": "[encoded data removed]",
      "text/plain": [
       "<Figure size 432x288 with 1 Axes>"
      ]
     },
     "metadata": {
      "needs_background": "light"
     },
     "output_type": "display_data"
    }
   ],
   "source": [
    "plt.scatter(df['expected_recovery_amount'], df['actual_recovery_amount'])\n",
    "plt.xlabel('expected_recovery_amount')\n",
    "plt.ylabel('actual_recovery_amount')\n",
    "plt.title('Expected vs. actual_recovery_amount')\n",
    "plt.show()"
   ]
  },
  {
   "cell_type": "markdown",
   "id": "5709b5df",
   "metadata": {},
   "source": [
    "### Statistical Analysis - Recovery Amount"
   ]
  },
  {
   "cell_type": "code",
   "execution_count": 17,
   "id": "44512a18",
   "metadata": {},
   "outputs": [
    {
     "name": "stdout",
     "output_type": "stream",
     "text": [
      "Kruskal-Wallis Test for Window 1: KruskalResult(statistic=98.43345457373502, pvalue=3.361323971641858e-23)\n",
      "Kruskal-Wallis Test for Window 2: KruskalResult(statistic=56.821597680846416, pvalue=4.7719656724510236e-14)\n"
     ]
    }
   ],
   "source": [
    "window_1 = df[(df['expected_recovery_amount'] >= 900) & (df['expected_recovery_amount'] <= 1100)]\n",
    "window_2 = df[(df['expected_recovery_amount'] >= 950) & (df['expected_recovery_amount'] <= 1050)]\n",
    "kruskal_test_1 = stats.kruskal(window_1['actual_recovery_amount'], window_1['expected_recovery_amount'])\n",
    "kruskal_test_2 = stats.kruskal(window_2['actual_recovery_amount'], window_2['expected_recovery_amount'])\n",
    "print(f\"Kruskal-Wallis Test for Window 1: {kruskal_test_1}\")\n",
    "print(f\"Kruskal-Wallis Test for Window 2: {kruskal_test_2}\")"
   ]
  },
  {
   "cell_type": "markdown",
   "id": "babecdde",
   "metadata": {},
   "source": [
    "### Regression Modeling - No Threshold"
   ]
  },
  {
   "cell_type": "code",
   "execution_count": 18,
   "id": "6194f7c8",
   "metadata": {},
   "outputs": [
    {
     "name": "stdout",
     "output_type": "stream",
     "text": [
      "                              OLS Regression Results                              \n",
      "==================================================================================\n",
      "Dep. Variable:     actual_recovery_amount   R-squared:                       0.817\n",
      "Model:                                OLS   Adj. R-squared:                  0.817\n",
      "Method:                     Least Squares   F-statistic:                     8378.\n",
      "Date:                    Wed, 23 Aug 2023   Prob (F-statistic):               0.00\n",
      "Time:                            15:05:29   Log-Likelihood:                -16936.\n",
      "No. Observations:                    1882   AIC:                         3.388e+04\n",
      "Df Residuals:                        1880   BIC:                         3.389e+04\n",
      "Df Model:                               1                                         \n",
      "Covariance Type:                nonrobust                                         \n",
      "============================================================================================\n",
      "                               coef    std err          t      P>|t|      [0.025      0.975]\n",
      "--------------------------------------------------------------------------------------------\n",
      "const                    -1650.4994     76.506    -21.573      0.000   -1800.545   -1500.454\n",
      "expected_recovery_amount     2.0477      0.022     91.530      0.000       2.004       2.092\n",
      "==============================================================================\n",
      "Omnibus:                     1477.262   Durbin-Watson:                   2.090\n",
      "Prob(Omnibus):                  0.000   Jarque-Bera (JB):            77458.302\n",
      "Skew:                           3.224   Prob(JB):                         0.00\n",
      "Kurtosis:                      33.761   Cond. No.                     5.79e+03\n",
      "==============================================================================\n",
      "\n",
      "Notes:\n",
      "[1] Standard Errors assume that the covariance matrix of the errors is correctly specified.\n",
      "[2] The condition number is large, 5.79e+03. This might indicate that there are\n",
      "strong multicollinearity or other numerical problems.\n"
     ]
    }
   ],
   "source": [
    "X = df['expected_recovery_amount']\n",
    "y = df['actual_recovery_amount']\n",
    "X = sm.add_constant(X)\n",
    "model_1 = sm.OLS(y, X).fit()\n",
    "print(model_1.summary())\n"
   ]
  },
  {
   "cell_type": "markdown",
   "id": "141e59f4",
   "metadata": {},
   "source": [
    "### Regression Modeling - Adding True Threshold"
   ]
  },
  {
   "cell_type": "code",
   "execution_count": null,
   "id": "569b2a6b",
   "metadata": {},
   "outputs": [],
   "source": [
    "df['Above_Threshold'] = np.where(df['expected_recovery_amount'] > 1000, 1, 0)\n",
    "X = df[['expected_recovery_amount', 'Above_Threshold']]\n",
    "X = sm.add_constant(X)\n",
    "model_2 = sm.OLS(y, X).fit()\n",
    "print(model_2.summary())"
   ]
  },
  {
   "cell_type": "markdown",
   "id": "fedd7700",
   "metadata": {},
   "source": [
    "### Regression Modeling - Adjusting the Window"
   ]
  },
  {
   "cell_type": "code",
   "execution_count": 20,
   "id": "0ec6711f",
   "metadata": {},
   "outputs": [
    {
     "name": "stdout",
     "output_type": "stream",
     "text": [
      "                              OLS Regression Results                              \n",
      "==================================================================================\n",
      "Dep. Variable:     actual_recovery_amount   R-squared:                       0.270\n",
      "Model:                                OLS   Adj. R-squared:                  0.255\n",
      "Method:                     Least Squares   F-statistic:                     17.90\n",
      "Date:                    Wed, 23 Aug 2023   Prob (F-statistic):           2.42e-07\n",
      "Time:                            15:05:30   Log-Likelihood:                -700.65\n",
      "No. Observations:                     100   AIC:                             1407.\n",
      "Df Residuals:                          97   BIC:                             1415.\n",
      "Df Model:                               2                                         \n",
      "Covariance Type:                nonrobust                                         \n",
      "============================================================================================\n",
      "                               coef    std err          t      P>|t|      [0.025      0.975]\n",
      "--------------------------------------------------------------------------------------------\n",
      "const                    -1102.7036   1840.645     -0.599      0.551   -4755.875    2550.468\n",
      "expected_recovery_amount     1.7713      1.885      0.939      0.350      -1.971       5.513\n",
      "Above_Threshold            229.6714    112.491      2.042      0.044       6.408     452.935\n",
      "==============================================================================\n",
      "Omnibus:                       39.950   Durbin-Watson:                   1.893\n",
      "Prob(Omnibus):                  0.000   Jarque-Bera (JB):               83.782\n",
      "Skew:                           1.581   Prob(JB):                     6.41e-19\n",
      "Kurtosis:                       6.179   Cond. No.                     6.80e+04\n",
      "==============================================================================\n",
      "\n",
      "Notes:\n",
      "[1] Standard Errors assume that the covariance matrix of the errors is correctly specified.\n",
      "[2] The condition number is large, 6.8e+04. This might indicate that there are\n",
      "strong multicollinearity or other numerical problems.\n"
     ]
    }
   ],
   "source": [
    "window_3 = df[(df['expected_recovery_amount'] >= 950) & (df['expected_recovery_amount'] <= 1050)]\n",
    "X_window_3 = window_3[['expected_recovery_amount', 'Above_Threshold']]\n",
    "X_window_3 = sm.add_constant(X_window_3)\n",
    "model_3 = sm.OLS(window_3['actual_recovery_amount'], X_window_3).fit()\n",
    "print(model_3.summary())\n"
   ]
  },
  {
   "cell_type": "code",
   "execution_count": 24,
   "id": "3307155e",
   "metadata": {},
   "outputs": [
    {
     "name": "stdout",
     "output_type": "stream",
     "text": [
      "                              OLS Regression Results                              \n",
      "==================================================================================\n",
      "Dep. Variable:     actual_recovery_amount   R-squared:                       0.270\n",
      "Model:                                OLS   Adj. R-squared:                  0.255\n",
      "Method:                     Least Squares   F-statistic:                     17.90\n",
      "Date:                    Wed, 23 Aug 2023   Prob (F-statistic):           2.42e-07\n",
      "Time:                            15:11:53   Log-Likelihood:                -700.65\n",
      "No. Observations:                     100   AIC:                             1407.\n",
      "Df Residuals:                          97   BIC:                             1415.\n",
      "Df Model:                               2                                         \n",
      "Covariance Type:                nonrobust                                         \n",
      "============================================================================================\n",
      "                               coef    std err          t      P>|t|      [0.025      0.975]\n",
      "--------------------------------------------------------------------------------------------\n",
      "const                    -1102.7036   1840.645     -0.599      0.551   -4755.875    2550.468\n",
      "expected_recovery_amount     1.7713      1.885      0.939      0.350      -1.971       5.513\n",
      "Above_Threshold            229.6714    112.491      2.042      0.044       6.408     452.935\n",
      "==============================================================================\n",
      "Omnibus:                       39.950   Durbin-Watson:                   1.893\n",
      "Prob(Omnibus):                  0.000   Jarque-Bera (JB):               83.782\n",
      "Skew:                           1.581   Prob(JB):                     6.41e-19\n",
      "Kurtosis:                       6.179   Cond. No.                     6.80e+04\n",
      "==============================================================================\n",
      "\n",
      "Notes:\n",
      "[1] Standard Errors assume that the covariance matrix of the errors is correctly specified.\n",
      "[2] The condition number is large, 6.8e+04. This might indicate that there are\n",
      "strong multicollinearity or other numerical problems.\n"
     ]
    }
   ],
   "source": [
    "window_adjusted = df[(df['expected_recovery_amount'] >= 950) & (df['expected_recovery_amount'] <= 1050)]\n",
    "\n",
    "# Prepare the data for regression\n",
    "X_window_adjusted = window_adjusted[['expected_recovery_amount', 'Above_Threshold']]\n",
    "X_window_adjusted = sm.add_constant(X_window_adjusted)\n",
    "\n",
    "# Fit the regression model\n",
    "model_window_adjusted = sm.OLS(window_adjusted['actual_recovery_amount'], X_window_adjusted).fit()\n",
    "\n",
    "# Print model summary\n",
    "print(model_window_adjusted.summary())"
   ]
  },
  {
   "cell_type": "code",
   "execution_count": null,
   "id": "417c2c8e",
   "metadata": {},
   "outputs": [],
   "source": []
  },
  {
   "cell_type": "code",
   "execution_count": null,
   "id": "e0b9ec1c",
   "metadata": {},
   "outputs": [],
   "source": []
  }
 ],
 "metadata": {
  "kernelspec": {
   "display_name": "Python 3",
   "language": "python",
   "name": "python3"
  },
  "language_info": {
   "codemirror_mode": {
    "name": "ipython",
    "version": 3
   },
   "file_extension": ".py",
   "mimetype": "text/x-python",
   "name": "python",
   "nbconvert_exporter": "python",
   "pygments_lexer": "ipython3",
   "version": "3.8.8"
  }
 },
 "nbformat": 4,
 "nbformat_minor": 5
}
